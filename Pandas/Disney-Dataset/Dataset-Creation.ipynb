{
 "cells": [
  {
   "cell_type": "markdown",
   "metadata": {},
   "source": [
    "Disney Dataset Creation (w/ Python BeautifulSoup)"
   ]
  },
  {
   "cell_type": "code",
   "execution_count": 4,
   "metadata": {},
   "outputs": [],
   "source": [
    "#import necessary libraries\n",
    "import requests\n",
    "from bs4 import BeautifulSoup\n",
    "from time import sleep\n",
    "import pandas as pd\n",
    "import json\n"
   ]
  },
  {
   "cell_type": "markdown",
   "metadata": {},
   "source": [
    "Scrape & clean a list of disney wikipedia pages to create a dataset to further analyze"
   ]
  },
  {
   "cell_type": "markdown",
   "metadata": {},
   "source": [
    "Task #1 : Get info box (store in Python dictionary)"
   ]
  },
  {
   "cell_type": "code",
   "execution_count": 5,
   "metadata": {},
   "outputs": [
    {
     "data": {
      "text/plain": [
       "'Toy Story 3'"
      ]
     },
     "execution_count": 5,
     "metadata": {},
     "output_type": "execute_result"
    }
   ],
   "source": [
    "def get_movie_data(url) : \n",
    "    sleep(0.1)\n",
    "    response = requests.get(url)\n",
    "    # Convert to a beautiful soup object\n",
    "    soup = BeautifulSoup(response.content, 'lxml')\n",
    "\n",
    "    # Print out the HTML\n",
    "    try:\n",
    "        info_rows = soup.find(class_=\"infobox vevent\").find_all(\"tr\")\n",
    "        def get_content_value(row_data):\n",
    "                if row_data.find(\"li\"):\n",
    "                    return [li.get_text(\" \", strip=True).replace(\"\\xa0\", \" \") for li in row_data.find_all(\"li\")]\n",
    "                else:\n",
    "                    return row_data.get_text(\" \", strip=True).replace(\"\\xa0\", \" \")\n",
    "        movie_info = {}\n",
    "        for index, row in enumerate(info_rows):\n",
    "            if index == 0:\n",
    "                movie_info['title'] = row.find(\"th\").get_text(\" \", strip=True)\n",
    "            elif index == 1:\n",
    "                continue\n",
    "            else:\n",
    "                content_key = row.find(\"th\").get_text(\" \", strip=True)\n",
    "                content_value = get_content_value(row.find(\"td\"))\n",
    "                movie_info[content_key] = content_value\n",
    "            \n",
    "        return movie_info\n",
    "    except:\n",
    "        return None\n",
    "\n",
    "get_movie_data('https://en.wikipedia.org/wiki/Toy_Story_3')['title']"
   ]
  },
  {
   "cell_type": "markdown",
   "metadata": {},
   "source": [
    "Task #2 : get info box for all movies"
   ]
  },
  {
   "cell_type": "code",
   "execution_count": 6,
   "metadata": {},
   "outputs": [],
   "source": [
    "res = requests.get('https://en.wikipedia.org/wiki/List_of_Walt_Disney_Pictures_films')\n",
    "soup = BeautifulSoup(res.content, 'lxml')\n",
    "\n",
    "results = soup.select('.wikitable.sortable i a')\n",
    "urls = ['https://en.wikipedia.org/' + url['href'] for url in results]\n",
    "\n",
    "movies_data = [get_movie_data(url) for url in urls if get_movie_data(url) != None]\n",
    "\n",
    "df = pd.DataFrame(movies_data)\n",
    "df.to_json('./Output/disney_dataset.json', orient='index')"
   ]
  },
  {
   "cell_type": "markdown",
   "metadata": {},
   "source": []
  }
 ],
 "metadata": {
  "kernelspec": {
   "display_name": "Python 3.8.10 64-bit",
   "language": "python",
   "name": "python3"
  },
  "language_info": {
   "codemirror_mode": {
    "name": "ipython",
    "version": 3
   },
   "file_extension": ".py",
   "mimetype": "text/x-python",
   "name": "python",
   "nbconvert_exporter": "python",
   "pygments_lexer": "ipython3",
   "version": "3.8.10"
  },
  "orig_nbformat": 4,
  "vscode": {
   "interpreter": {
    "hash": "916dbcbb3f70747c44a77c7bcd40155683ae19c65e1c03b4aa3499c5328201f1"
   }
  }
 },
 "nbformat": 4,
 "nbformat_minor": 2
}
